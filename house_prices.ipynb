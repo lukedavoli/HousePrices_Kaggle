{
 "metadata": {
  "language_info": {
   "codemirror_mode": {
    "name": "ipython",
    "version": 3
   },
   "file_extension": ".py",
   "mimetype": "text/x-python",
   "name": "python",
   "nbconvert_exporter": "python",
   "pygments_lexer": "ipython3",
   "version": "3.8.5-final"
  },
  "orig_nbformat": 2,
  "kernelspec": {
   "name": "python3",
   "display_name": "Python 3",
   "language": "python"
  }
 },
 "nbformat": 4,
 "nbformat_minor": 2,
 "cells": [
  {
   "cell_type": "code",
   "execution_count": null,
   "metadata": {},
   "outputs": [],
   "source": [
    "%reset"
   ]
  },
  {
   "source": [
    "\n",
    "# House Prices: Advanced Regression Techniques (Kaggle Competition)"
   ],
   "cell_type": "markdown",
   "metadata": {}
  },
  {
   "source": [
    "## Framing the Problem\n",
    "\n",
    "**Objective:** To accurately predict the final price of homes in Ames, Iowa.\n",
    "\n",
    "**Use of Solution**: The solution may be used to predict home prices in Ames, but it is mostly for me to use to experiment, learn and improve my ML skills.\n",
    "\n",
    "**Current Solutions**: Experts in real estate give their best estimate of house prices given their knowledge of markets.\n",
    "\n",
    "**Type of Problem**: This is a regression problem that should be solved with offline supervised learning in a model-based approach.\n",
    "\n",
    "**Performance Measure**: As determined by the Kaggle competition, the performance of the model will be measured by the Root Mean Squared Logarithmic Error, however while working on the model I will evaluate it with a range of metrics, including the Mean Absolute Error to guage how well the model is performing in real terms of house prices.\n",
    "\n",
    "**Minimum Performance for Business Objective Success**: I learned something."
   ],
   "cell_type": "markdown",
   "metadata": {}
  },
  {
   "source": [
    "## Get the Data"
   ],
   "cell_type": "markdown",
   "metadata": {}
  },
  {
   "source": [
    "### Download it"
   ],
   "cell_type": "markdown",
   "metadata": {}
  },
  {
   "cell_type": "code",
   "execution_count": null,
   "metadata": {},
   "outputs": [],
   "source": [
    "from zipfile import ZipFile\n",
    "\n",
    "# Having some trouble with Kaggle API at the moment, but in future try to download data programmatically if possible\n",
    "\n",
    "ZIP_PATH = \"data/house-prices-advanced-regression-techniques.zip\"\n",
    "\n",
    "with ZipFile(ZIP_PATH, 'r') as zip:\n",
    "    zip.extractall('data')"
   ]
  },
  {
   "source": [
    "### Read it in"
   ],
   "cell_type": "markdown",
   "metadata": {}
  },
  {
   "cell_type": "code",
   "execution_count": null,
   "metadata": {},
   "outputs": [],
   "source": [
    "import pandas as pd\n",
    "\n",
    "train = pd.read_csv('data/train.csv')\n",
    "test = pd.read_csv('data/test.csv')"
   ]
  },
  {
   "source": [
    "## Exploratory Data Analysis"
   ],
   "cell_type": "markdown",
   "metadata": {}
  },
  {
   "cell_type": "code",
   "execution_count": null,
   "metadata": {},
   "outputs": [],
   "source": [
    "import seaborn as sns\n",
    "import matplotlib.pyplot as plt\n",
    "%matplotlib inline"
   ]
  },
  {
   "cell_type": "code",
   "execution_count": null,
   "metadata": {},
   "outputs": [],
   "source": [
    "eda_data = train.copy()\n",
    "eda_data.shape"
   ]
  },
  {
   "cell_type": "code",
   "execution_count": null,
   "metadata": {},
   "outputs": [],
   "source": [
    "eda_data.info(verbose=True)"
   ]
  },
  {
   "cell_type": "code",
   "execution_count": null,
   "metadata": {},
   "outputs": [],
   "source": [
    "pd.set_option('display.max_columns', None)\n",
    "eda_data.describe()"
   ]
  },
  {
   "cell_type": "code",
   "execution_count": null,
   "metadata": {},
   "outputs": [],
   "source": [
    "eda_data.head(10)"
   ]
  },
  {
   "cell_type": "code",
   "execution_count": null,
   "metadata": {},
   "outputs": [],
   "source": [
    "eda_data_num = eda_data.select_dtypes(include=['int64', 'float64'])\n",
    "eda_data_cat = eda_data.select_dtypes(include=['object'])"
   ]
  },
  {
   "cell_type": "code",
   "execution_count": null,
   "metadata": {},
   "outputs": [],
   "source": [
    "eda_data_num.hist(bins=50, figsize=(20,60), layout=(10,4))\n",
    "plt.show()"
   ]
  },
  {
   "source": [
    "### Notes on Histograms of Numerical Data\n",
    "\n",
    "* Obviously the `2ndFlrSF` variable has many 0 values because most homes don't have a 2nd floor, I'm not sure how to deal with this. Should I create a categorical value for it as well? Will look into this. The same goes for garages, many don't have any garage at all. How should this be dealt with?\n",
    "* `BsmtFinSF1`, `BsmtFinSF2`, `BsmtUnfSF` can probably be ignored in favour of `TotalBsmtSF`\n",
    "* There's 4 different types of porch under the fields `OpenPorchSF`, `EnclosedPorch`, `3SsnPorch` and `ScreenPorch` which all give the square footage of the respective porch. First I'll see if any of these porch types have a noticeable impact on the sale price, but I will most likely just make them categorical variables and then have one numerical variable for porch square footage for porches of all kinds.\n",
    "* `PoolArea` doesn't seem to have been recorded consistently, using `value_counts()` shows only a few were recorded. A categorical for whether or not there is a pool should be sufficient.\n",
    "* All other fields at this point seem unimportant or should be fine to include.\n"
   ],
   "cell_type": "markdown",
   "metadata": {}
  },
  {
   "source": [
    "### The Target Variable"
   ],
   "cell_type": "markdown",
   "metadata": {}
  },
  {
   "cell_type": "code",
   "execution_count": null,
   "metadata": {},
   "outputs": [],
   "source": [
    "eda_data_num.hist(column='SalePrice', bins=100, figsize=(16,6))"
   ]
  },
  {
   "cell_type": "code",
   "execution_count": null,
   "metadata": {},
   "outputs": [],
   "source": [
    "num_corr_matrix = eda_data_num.corr()\n",
    "num_corr_matrix['SalePrice'].sort_values(ascending=False)"
   ]
  },
  {
   "cell_type": "code",
   "execution_count": null,
   "metadata": {},
   "outputs": [],
   "source": [
    "fig, ax = plt.subplots(figsize=(8,4))\n",
    "sns.boxplot(x=eda_data_num['OverallQual'], y=eda_data_num['SalePrice']).set_title(\"Overall Quality vs SalePrice\")"
   ]
  },
  {
   "source": [
    "I'm assuming that this an arbitrary rating given by a Surveyor. While it is meant to be a rating of \"the overall material and finish of the house\" alone, I wouldn't be surprised if there is some inherent bias in the rating given by the surveyor that follows their general valuation of the home, otherwise there could be a correlation between the quality of the house and the other factors that determine the value of a home, as houses in expensive locations are probably more likely to have a more expensive, high quality finish. Either way it predicts SalePrice very accurately so, whatever the reason for it, we'll keep it. "
   ],
   "cell_type": "markdown",
   "metadata": {}
  },
  {
   "cell_type": "code",
   "execution_count": null,
   "metadata": {},
   "outputs": [],
   "source": [
    "fig, ax = plt.subplots(figsize=(8,4))\n",
    "sns.regplot(x=eda_data_num['GrLivArea'], y=eda_data_num['SalePrice'], scatter_kws={'alpha':0.2}).set_title(\"Ground Living Area vs SalePrice\")"
   ]
  },
  {
   "source": [
    "As expected, the living area in square feet of the home is well correlated with its value."
   ],
   "cell_type": "markdown",
   "metadata": {}
  },
  {
   "source": [
    "fig, ax = plt.subplots(figsize=(16,6))\n",
    "sns.regplot(x=eda_data_num['LotArea'], y=eda_data_num['SalePrice'], scatter_kws={'alpha':0.2}).set_title(\"Sale Price as a result of Lot Size (all data)\")"
   ],
   "cell_type": "code",
   "metadata": {},
   "execution_count": null,
   "outputs": []
  },
  {
   "cell_type": "code",
   "execution_count": null,
   "metadata": {},
   "outputs": [],
   "source": [
    "import numpy as np\n",
    "def is_outlier(points, thresh=3.5):\n",
    "    if len(points.shape) == 1:\n",
    "        points = points[:,None]\n",
    "    median = np.median(points, axis=0)\n",
    "    diff = np.sum((points - median)**2, axis=-1)\n",
    "    diff = np.sqrt(diff)\n",
    "    med_abs_deviation = np.median(diff)\n",
    "\n",
    "    modified_z_score = 0.6745 * diff / med_abs_deviation\n",
    "\n",
    "    return modified_z_score > thresh"
   ]
  },
  {
   "source": [
    "no_la_outliers = eda_data_num[~is_outlier(eda_data_num['LotArea'])]\n",
    "\n",
    "fig, ax = plt.subplots(figsize=(16,6))\n",
    "sns.regplot(x=no_la_outliers['LotArea'], y=no_la_outliers['SalePrice'], scatter_kws={'alpha':0.2}).set_title(\"Sale Price as a result of Lot Size (no LotArea outliers)\")"
   ],
   "cell_type": "code",
   "metadata": {},
   "execution_count": null,
   "outputs": []
  },
  {
   "source": [
    "I find this strange, I would have expected LotArea to have a much stronger positive correlation with SalePrice. The `GrLivingArea` is very highly correlated though, as expected."
   ],
   "cell_type": "markdown",
   "metadata": {}
  },
  {
   "cell_type": "code",
   "execution_count": null,
   "metadata": {},
   "outputs": [],
   "source": [
    "for fld in eda_data_cat.columns:\n",
    "    print(\"\\n\" + fld)\n",
    "    fig, ax = plt.subplots(figsize=(8,4))\n",
    "    plt.bar(eda_data_cat[fld].dropna().unique(), eda_data_cat[fld].value_counts(dropna=True))\n",
    "    plt.title(fld)\n",
    "    plt.show()\n",
    "    print(\"{} missing values\".format(eda_data_cat[fld].isna().sum()))  "
   ]
  },
  {
   "source": [
    "### Notes on Bar Charts of Categorical Data\n",
    "* The vast majority of values in `MSZoning` are some kind of residential, the rest are commercial. It may be worth investigating if whether a property is zoned commercially vs residentially has an impact and just re-categorizing them as such.\n",
    "* There are three different levels of irregularity for `LotShape`? Just make this a OneHot categorical variable, Irregular.\n"
   ],
   "cell_type": "markdown",
   "metadata": {}
  },
  {
   "cell_type": "code",
   "execution_count": null,
   "metadata": {},
   "outputs": [],
   "source": [
    "for fld in eda_data_cat.columns:\n",
    "    print(\"\\n\" + fld)\n",
    "    median_increasing = eda_data.groupby(by=[fld])['SalePrice'].median().sort_values(ascending=True).index\n",
    "\n",
    "    fig, ax = plt.subplots(figsize=(8,4))\n",
    "    sns.boxplot(x=eda_data_cat[fld], y=eda_data_num['SalePrice'], order=median_increasing).set_title(\"{} vs SalePrice\".format(fld))\n",
    "    plt.show()"
   ]
  }
 ]
}